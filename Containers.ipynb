{
  "nbformat": 4,
  "nbformat_minor": 0,
  "metadata": {
    "colab": {
      "name": "Containers.ipynb",
      "provenance": []
    },
    "kernelspec": {
      "name": "python3",
      "display_name": "Python 3"
    }
  },
  "cells": [
    {
      "cell_type": "code",
      "metadata": {
        "id": "fUlwSqfnZtVZ",
        "colab": {
          "base_uri": "https://localhost:8080/"
        },
        "outputId": "d3b762cf-4b9e-458e-fb32-58e16133d1ee"
      },
      "source": [
        "list=[1,2,3,4]\n",
        "for i in list:\n",
        "  print(i**2)"
      ],
      "execution_count": null,
      "outputs": [
        {
          "output_type": "stream",
          "text": [
            "1\n",
            "4\n",
            "9\n",
            "16\n"
          ],
          "name": "stdout"
        }
      ]
    },
    {
      "cell_type": "code",
      "metadata": {
        "colab": {
          "base_uri": "https://localhost:8080/"
        },
        "id": "MhfLBq7OLJ_p",
        "outputId": "09c5dc91-1a46-4049-c802-26968b821990"
      },
      "source": [
        "list=[1,2,3,4]\n",
        "list1=[]\n",
        "for i in list:\n",
        "  list1.append(i**2)\n",
        "\n",
        "print(list1)"
      ],
      "execution_count": null,
      "outputs": [
        {
          "output_type": "stream",
          "text": [
            "[1, 4, 9, 16]\n"
          ],
          "name": "stdout"
        }
      ]
    },
    {
      "cell_type": "code",
      "metadata": {
        "colab": {
          "base_uri": "https://localhost:8080/"
        },
        "id": "0oZM7MshLhil",
        "outputId": "892e7ddf-8683-47eb-ccea-90000156fc2b"
      },
      "source": [
        "#convert the entire code into list comprehensions\n",
        "#nOte: list comprehesion can be applied only when you want the output to be a list\n",
        "[i for i in list]"
      ],
      "execution_count": null,
      "outputs": [
        {
          "output_type": "execute_result",
          "data": {
            "text/plain": [
              "[1, 2, 3, 4]"
            ]
          },
          "metadata": {
            "tags": []
          },
          "execution_count": 7
        }
      ]
    },
    {
      "cell_type": "code",
      "metadata": {
        "colab": {
          "base_uri": "https://localhost:8080/"
        },
        "id": "IHZB0Vq-Lv7E",
        "outputId": "1b6b7abb-a45d-4afe-b732-9761deebacbe"
      },
      "source": [
        "[i**2 for i in list]"
      ],
      "execution_count": null,
      "outputs": [
        {
          "output_type": "execute_result",
          "data": {
            "text/plain": [
              "[1, 4, 9, 16]"
            ]
          },
          "metadata": {
            "tags": []
          },
          "execution_count": 6
        }
      ]
    },
    {
      "cell_type": "code",
      "metadata": {
        "colab": {
          "base_uri": "https://localhost:8080/"
        },
        "id": "UAyiWO6ULzTv",
        "outputId": "2edea7f2-a301-4a00-bef7-9a6f55986a18"
      },
      "source": [
        "#sum of even numbers inside a collection\n",
        "\n",
        "list=[1,2,3,4,5,6,7,8,9,10]\n",
        "[i for i in list if i%2==0]"
      ],
      "execution_count": null,
      "outputs": [
        {
          "output_type": "execute_result",
          "data": {
            "text/plain": [
              "[2, 4, 6, 8, 10]"
            ]
          },
          "metadata": {
            "tags": []
          },
          "execution_count": 1
        }
      ]
    },
    {
      "cell_type": "code",
      "metadata": {
        "colab": {
          "base_uri": "https://localhost:8080/"
        },
        "id": "Kzu8DQZ9zs1r",
        "outputId": "c4303695-d8fe-4fcb-bdd9-ff3d57a37ce4"
      },
      "source": [
        "\n",
        "list=[1,2,3,4,5,6,7,8,9,10]\n",
        "[i for i in list if i%2!=0]"
      ],
      "execution_count": null,
      "outputs": [
        {
          "output_type": "execute_result",
          "data": {
            "text/plain": [
              "[1, 3, 5, 7, 9]"
            ]
          },
          "metadata": {
            "tags": []
          },
          "execution_count": 1
        }
      ]
    },
    {
      "cell_type": "code",
      "metadata": {
        "colab": {
          "base_uri": "https://localhost:8080/"
        },
        "id": "nTaqOqxFzwFo",
        "outputId": "1eda3c61-c0e6-4d12-d4c1-3dde3108c905"
      },
      "source": [
        "my_string=\"stone\"\n",
        "\n",
        "[print(i) for i in my_string if i not in \"aeiou\"] #Print(i) is executed if the given character is not a vowel"
      ],
      "execution_count": null,
      "outputs": [
        {
          "output_type": "stream",
          "text": [
            "s\n",
            "t\n",
            "n\n"
          ],
          "name": "stdout"
        },
        {
          "output_type": "execute_result",
          "data": {
            "text/plain": [
              "[None, None, None]"
            ]
          },
          "metadata": {
            "tags": []
          },
          "execution_count": 4
        }
      ]
    },
    {
      "cell_type": "code",
      "metadata": {
        "colab": {
          "base_uri": "https://localhost:8080/"
        },
        "id": "6n1z5WGAunsj",
        "outputId": "b38ba5ca-31f0-4de1-f971-aae942be3f33"
      },
      "source": [
        "[print(i) for i in my_string if i in \"aeiou\"] #print(i) is executed if the given characher is a vowel"
      ],
      "execution_count": null,
      "outputs": [
        {
          "output_type": "stream",
          "text": [
            "o\n",
            "e\n"
          ],
          "name": "stdout"
        },
        {
          "output_type": "execute_result",
          "data": {
            "text/plain": [
              "[None, None]"
            ]
          },
          "metadata": {
            "tags": []
          },
          "execution_count": 5
        }
      ]
    },
    {
      "cell_type": "code",
      "metadata": {
        "colab": {
          "base_uri": "https://localhost:8080/"
        },
        "id": "-9VKstJ5vaCu",
        "outputId": "5380e5e5-5dda-4389-e599-a743ea46e93c"
      },
      "source": [
        "k=[print(i) for i in my_string if i not in \"aeiou\"] # here K return none as\n",
        "print(k)"
      ],
      "execution_count": null,
      "outputs": [
        {
          "output_type": "stream",
          "text": [
            "s\n",
            "t\n",
            "n\n",
            "[None, None, None]\n"
          ],
          "name": "stdout"
        }
      ]
    },
    {
      "cell_type": "code",
      "metadata": {
        "colab": {
          "base_uri": "https://localhost:8080/"
        },
        "id": "I08mAmtcwAVn",
        "outputId": "f7d92255-d0e7-47ab-e08c-c37dcb015cb1"
      },
      "source": [
        "my_string=\"hello world\"\n",
        "\n",
        "k=[(i.upper(),len(i)) for i in my_string]\n",
        "print(k)"
      ],
      "execution_count": null,
      "outputs": [
        {
          "output_type": "stream",
          "text": [
            "[('H', 1), ('E', 1), ('L', 1), ('L', 1), ('O', 1), (' ', 1), ('W', 1), ('O', 1), ('R', 1), ('L', 1), ('D', 1)]\n"
          ],
          "name": "stdout"
        }
      ]
    },
    {
      "cell_type": "code",
      "metadata": {
        "colab": {
          "base_uri": "https://localhost:8080/"
        },
        "id": "oBuKfSrzwAsn",
        "outputId": "5b90d3fc-71e9-45b4-eafa-5af70118c955"
      },
      "source": [
        "[i**+1 for i in range(3)]    # i**+1 is evaluated as (i)**(+1)"
      ],
      "execution_count": null,
      "outputs": [
        {
          "output_type": "execute_result",
          "data": {
            "text/plain": [
              "[0, 1, 2]"
            ]
          },
          "metadata": {
            "tags": []
          },
          "execution_count": 12
        }
      ]
    },
    {
      "cell_type": "code",
      "metadata": {
        "colab": {
          "base_uri": "https://localhost:8080/"
        },
        "id": "V1il7DSywA1U",
        "outputId": "13153883-5355-47eb-b554-87cc30148bc8"
      },
      "source": [
        "[i.lower() for i in \"HELLO\"]"
      ],
      "execution_count": null,
      "outputs": [
        {
          "output_type": "execute_result",
          "data": {
            "text/plain": [
              "['h', 'e', 'l', 'l', 'o']"
            ]
          },
          "metadata": {
            "tags": []
          },
          "execution_count": 13
        }
      ]
    },
    {
      "cell_type": "code",
      "metadata": {
        "colab": {
          "base_uri": "https://localhost:8080/"
        },
        "id": "v-i1JJ4dwA-g",
        "outputId": "e5567dd8-e8e5-48c8-8b93-c7d90150dce9"
      },
      "source": [
        "print([i.lower() for i in \"HELLO\"])"
      ],
      "execution_count": null,
      "outputs": [
        {
          "output_type": "stream",
          "text": [
            "['h', 'e', 'l', 'l', 'o']\n"
          ],
          "name": "stdout"
        }
      ]
    },
    {
      "cell_type": "code",
      "metadata": {
        "colab": {
          "base_uri": "https://localhost:8080/"
        },
        "id": "2yiuIPXT0HiR",
        "outputId": "f69e9b06-2700-4b6a-ff3b-d00ae0117b2b"
      },
      "source": [
        "[i+j for i in \"abc\" for j in \"def\"]"
      ],
      "execution_count": null,
      "outputs": [
        {
          "output_type": "execute_result",
          "data": {
            "text/plain": [
              "['ad', 'ae', 'af', 'bd', 'be', 'bf', 'cd', 'ce', 'cf']"
            ]
          },
          "metadata": {
            "tags": []
          },
          "execution_count": 15
        }
      ]
    },
    {
      "cell_type": "code",
      "metadata": {
        "colab": {
          "base_uri": "https://localhost:8080/",
          "height": 130
        },
        "id": "tONWWrCP0VlD",
        "outputId": "d1d3cb86-921b-440e-a6d1-60eb4b995230"
      },
      "source": [
        "[if i%2==0: i; else:i+1; for i in range(4)] # This will be a syntax error as if should not come first"
      ],
      "execution_count": null,
      "outputs": [
        {
          "output_type": "error",
          "ename": "SyntaxError",
          "evalue": "ignored",
          "traceback": [
            "\u001b[0;36m  File \u001b[0;32m\"<ipython-input-17-a1104563b8ff>\"\u001b[0;36m, line \u001b[0;32m1\u001b[0m\n\u001b[0;31m    [if i%2==0: i; else:i+1; for i in range(4)] # This will be a syntax error as if should not come first\u001b[0m\n\u001b[0m      ^\u001b[0m\n\u001b[0;31mSyntaxError\u001b[0m\u001b[0;31m:\u001b[0m invalid syntax\n"
          ]
        }
      ]
    },
    {
      "cell_type": "code",
      "metadata": {
        "colab": {
          "base_uri": "https://localhost:8080/"
        },
        "id": "WCFSROz003y9",
        "outputId": "567aa40a-4eca-44e7-f141-a39e250081d1"
      },
      "source": [
        "l=[1,2,3,4] #each of the numbers of the list, that is, 1, 2, 3, 4  are AND-ed with 1 and the result is printed in the form of a list. Hence the output is [1, 0, 1, 0].\n",
        "[x&1 for x in l]"
      ],
      "execution_count": null,
      "outputs": [
        {
          "output_type": "execute_result",
          "data": {
            "text/plain": [
              "[1, 0, 1, 0]"
            ]
          },
          "metadata": {
            "tags": []
          },
          "execution_count": 19
        }
      ]
    },
    {
      "cell_type": "code",
      "metadata": {
        "colab": {
          "base_uri": "https://localhost:8080/"
        },
        "id": "1Lpbn45P1MMZ",
        "outputId": "6150ad5f-15b6-41d6-c1c8-b9e72e6bff5f"
      },
      "source": [
        "l1=[1,2,3]\n",
        "l2=[4,5,6]\n",
        "[x*y for x in l1 for y in l2]"
      ],
      "execution_count": null,
      "outputs": [
        {
          "output_type": "execute_result",
          "data": {
            "text/plain": [
              "[4, 5, 6, 8, 10, 12, 12, 15, 18]"
            ]
          },
          "metadata": {
            "tags": []
          },
          "execution_count": 20
        }
      ]
    },
    {
      "cell_type": "code",
      "metadata": {
        "id": "PW15-jkOj8AD"
      },
      "source": [
        "l=['tom','Smith','bob']\n",
        "l.reverse()"
      ],
      "execution_count": null,
      "outputs": []
    },
    {
      "cell_type": "code",
      "metadata": {
        "colab": {
          "base_uri": "https://localhost:8080/"
        },
        "id": "5N8iOmg-j_wD",
        "outputId": "0f05b29c-ac1a-48f3-c849-3ce7745bac75"
      },
      "source": [
        "l"
      ],
      "execution_count": null,
      "outputs": [
        {
          "output_type": "execute_result",
          "data": {
            "text/plain": [
              "['bob', 'Smith', 'tom']"
            ]
          },
          "metadata": {
            "tags": []
          },
          "execution_count": 20
        }
      ]
    },
    {
      "cell_type": "code",
      "metadata": {
        "colab": {
          "base_uri": "https://localhost:8080/"
        },
        "id": "vjoCsL_3kEq8",
        "outputId": "0d720e42-6bf2-46b6-d736-40f18c91b2a6"
      },
      "source": [
        "[i[::-1] for i in l ]"
      ],
      "execution_count": null,
      "outputs": [
        {
          "output_type": "execute_result",
          "data": {
            "text/plain": [
              "['bob', 'htimS', 'mot']"
            ]
          },
          "metadata": {
            "tags": []
          },
          "execution_count": 21
        }
      ]
    },
    {
      "cell_type": "code",
      "metadata": {
        "colab": {
          "base_uri": "https://localhost:8080/"
        },
        "id": "AS_DcY6TkGBK",
        "outputId": "1c43c732-e21b-422c-89aa-f1484813218e"
      },
      "source": [
        "[i[::-1] for i in l ][::-1]"
      ],
      "execution_count": null,
      "outputs": [
        {
          "output_type": "execute_result",
          "data": {
            "text/plain": [
              "['mot', 'htimS', 'bob']"
            ]
          },
          "metadata": {
            "tags": []
          },
          "execution_count": 22
        }
      ]
    },
    {
      "cell_type": "markdown",
      "metadata": {
        "id": "sGQ6kD1Eh36N"
      },
      "source": [
        "## TUPLE ##"
      ]
    },
    {
      "cell_type": "code",
      "metadata": {
        "colab": {
          "base_uri": "https://localhost:8080/"
        },
        "id": "mXO-pdsT1MY9",
        "outputId": "dee407eb-b2a2-476f-d1f6-6d7a3c057443"
      },
      "source": [
        "tuple([1,2,3,\"Rahul\"])"
      ],
      "execution_count": null,
      "outputs": [
        {
          "output_type": "execute_result",
          "data": {
            "text/plain": [
              "(1, 2, 3, 'Rahul')"
            ]
          },
          "metadata": {
            "tags": []
          },
          "execution_count": 7
        }
      ]
    },
    {
      "cell_type": "code",
      "metadata": {
        "colab": {
          "base_uri": "https://localhost:8080/"
        },
        "id": "a_toXGDP1Mdy",
        "outputId": "b041f26e-de08-4d9d-9059-5ebbf0797ca7"
      },
      "source": [
        "t=tuple([1,2,3,\"Rahul\"])\n",
        "t[1]"
      ],
      "execution_count": null,
      "outputs": [
        {
          "output_type": "execute_result",
          "data": {
            "text/plain": [
              "2"
            ]
          },
          "metadata": {
            "tags": []
          },
          "execution_count": 9
        }
      ]
    },
    {
      "cell_type": "code",
      "metadata": {
        "id": "Jh4d7FpP1MhL"
      },
      "source": [
        "#We can change entire tuple but we cant chnage the elements inside it --Non Mutable or immutable"
      ],
      "execution_count": null,
      "outputs": []
    },
    {
      "cell_type": "code",
      "metadata": {
        "colab": {
          "base_uri": "https://localhost:8080/",
          "height": 164
        },
        "id": "ozyno2Se1MkO",
        "outputId": "ca7cc62f-41ec-49bf-dc07-306a46af1f0b"
      },
      "source": [
        "t[1]=\"Drone\""
      ],
      "execution_count": null,
      "outputs": [
        {
          "output_type": "error",
          "ename": "TypeError",
          "evalue": "ignored",
          "traceback": [
            "\u001b[0;31m---------------------------------------------------------------------------\u001b[0m",
            "\u001b[0;31mTypeError\u001b[0m                                 Traceback (most recent call last)",
            "\u001b[0;32m<ipython-input-10-1405b6317fa5>\u001b[0m in \u001b[0;36m<module>\u001b[0;34m()\u001b[0m\n\u001b[0;32m----> 1\u001b[0;31m \u001b[0mt\u001b[0m\u001b[0;34m[\u001b[0m\u001b[0;36m1\u001b[0m\u001b[0;34m]\u001b[0m\u001b[0;34m=\u001b[0m\u001b[0;34m\"Drone\"\u001b[0m\u001b[0;34m\u001b[0m\u001b[0;34m\u001b[0m\u001b[0m\n\u001b[0m",
            "\u001b[0;31mTypeError\u001b[0m: 'tuple' object does not support item assignment"
          ]
        }
      ]
    },
    {
      "cell_type": "code",
      "metadata": {
        "colab": {
          "base_uri": "https://localhost:8080/",
          "height": 164
        },
        "id": "DV8_z8rbizmV",
        "outputId": "568a300f-889e-4b42-995b-8b5be9e26417"
      },
      "source": [
        "t[2]=7"
      ],
      "execution_count": null,
      "outputs": [
        {
          "output_type": "error",
          "ename": "TypeError",
          "evalue": "ignored",
          "traceback": [
            "\u001b[0;31m---------------------------------------------------------------------------\u001b[0m",
            "\u001b[0;31mTypeError\u001b[0m                                 Traceback (most recent call last)",
            "\u001b[0;32m<ipython-input-12-e579bde6e219>\u001b[0m in \u001b[0;36m<module>\u001b[0;34m()\u001b[0m\n\u001b[0;32m----> 1\u001b[0;31m \u001b[0mt\u001b[0m\u001b[0;34m[\u001b[0m\u001b[0;36m2\u001b[0m\u001b[0;34m]\u001b[0m\u001b[0;34m=\u001b[0m\u001b[0;36m7\u001b[0m\u001b[0;34m\u001b[0m\u001b[0;34m\u001b[0m\u001b[0m\n\u001b[0m",
            "\u001b[0;31mTypeError\u001b[0m: 'tuple' object does not support item assignment"
          ]
        }
      ]
    },
    {
      "cell_type": "code",
      "metadata": {
        "id": "8D6GyH6_i26E"
      },
      "source": [
        "t.index()\n",
        "t.count()\n",
        "#Tuple is used when when immutability is necessary. Like in places where assignments is not possible after first assignments"
      ],
      "execution_count": null,
      "outputs": []
    },
    {
      "cell_type": "markdown",
      "metadata": {
        "id": "HcAPZ9AbktJO"
      },
      "source": [
        "##Sets##\n"
      ]
    },
    {
      "cell_type": "code",
      "metadata": {
        "colab": {
          "base_uri": "https://localhost:8080/"
        },
        "id": "AIqkmPHFkrqX",
        "outputId": "a8c37e0e-291e-4a96-f212-7630b35816ac"
      },
      "source": [
        "#collection of unique elements\n",
        "set((1,2,34)) # converting tuple to set type"
      ],
      "execution_count": null,
      "outputs": [
        {
          "output_type": "execute_result",
          "data": {
            "text/plain": [
              "{1, 2, 34}"
            ]
          },
          "metadata": {
            "tags": []
          },
          "execution_count": 24
        }
      ]
    },
    {
      "cell_type": "code",
      "metadata": {
        "colab": {
          "base_uri": "https://localhost:8080/"
        },
        "id": "UWK0a94Ij3GW",
        "outputId": "5ef30473-5c83-4662-f944-54fc3806a70c"
      },
      "source": [
        "set([1,2,3,4]) #converting list to tuple"
      ],
      "execution_count": null,
      "outputs": [
        {
          "output_type": "execute_result",
          "data": {
            "text/plain": [
              "{1, 2, 3, 4}"
            ]
          },
          "metadata": {
            "tags": []
          },
          "execution_count": 25
        }
      ]
    },
    {
      "cell_type": "code",
      "metadata": {
        "colab": {
          "base_uri": "https://localhost:8080/"
        },
        "id": "7JRIeBpnkwb2",
        "outputId": "1a474d22-1080-4451-da01-c7cd8a0cd772"
      },
      "source": [
        "type(set((1,2,34)))"
      ],
      "execution_count": null,
      "outputs": [
        {
          "output_type": "execute_result",
          "data": {
            "text/plain": [
              "set"
            ]
          },
          "metadata": {
            "tags": []
          },
          "execution_count": 26
        }
      ]
    },
    {
      "cell_type": "code",
      "metadata": {
        "colab": {
          "base_uri": "https://localhost:8080/"
        },
        "id": "4IN6fzjCkwhz",
        "outputId": "e6c736a4-c914-42fa-a718-fb28cb1924fb"
      },
      "source": [
        "type(set([1,2,3,4]))"
      ],
      "execution_count": null,
      "outputs": [
        {
          "output_type": "execute_result",
          "data": {
            "text/plain": [
              "set"
            ]
          },
          "metadata": {
            "tags": []
          },
          "execution_count": 27
        }
      ]
    },
    {
      "cell_type": "code",
      "metadata": {
        "colab": {
          "base_uri": "https://localhost:8080/"
        },
        "id": "gP81UiZ9kwmf",
        "outputId": "850ee393-a865-4ea9-afd5-808b6613dbe5"
      },
      "source": [
        "{1,2,3,4} #direct desfination of set uisng flower braces"
      ],
      "execution_count": null,
      "outputs": [
        {
          "output_type": "execute_result",
          "data": {
            "text/plain": [
              "{1, 2, 3, 4}"
            ]
          },
          "metadata": {
            "tags": []
          },
          "execution_count": 28
        }
      ]
    },
    {
      "cell_type": "code",
      "metadata": {
        "colab": {
          "base_uri": "https://localhost:8080/"
        },
        "id": "kIEaQiBEkwsB",
        "outputId": "a105fba8-91d5-48ef-e172-4da0cc05df5b"
      },
      "source": [
        "set([1,2,3,4,5,6,7,7,7,8,8,9,9,0,1,0]) #Set outputs always unique elements"
      ],
      "execution_count": null,
      "outputs": [
        {
          "output_type": "execute_result",
          "data": {
            "text/plain": [
              "{0, 1, 2, 3, 4, 5, 6, 7, 8, 9}"
            ]
          },
          "metadata": {
            "tags": []
          },
          "execution_count": 29
        }
      ]
    },
    {
      "cell_type": "code",
      "metadata": {
        "id": "NvCgzfVgkwvS"
      },
      "source": [
        "x=set()"
      ],
      "execution_count": null,
      "outputs": []
    },
    {
      "cell_type": "code",
      "metadata": {
        "id": "jTruhBnUkwx_"
      },
      "source": [
        "x.add(3) # We add to sets with add() method"
      ],
      "execution_count": null,
      "outputs": []
    },
    {
      "cell_type": "code",
      "metadata": {
        "colab": {
          "base_uri": "https://localhost:8080/"
        },
        "id": "PZtOkc5Lkw1U",
        "outputId": "2932e2eb-6931-4828-b9cb-9998be125ce3"
      },
      "source": [
        "x"
      ],
      "execution_count": null,
      "outputs": [
        {
          "output_type": "execute_result",
          "data": {
            "text/plain": [
              "{3}"
            ]
          },
          "metadata": {
            "tags": []
          },
          "execution_count": 32
        }
      ]
    },
    {
      "cell_type": "code",
      "metadata": {
        "colab": {
          "base_uri": "https://localhost:8080/"
        },
        "id": "Lqx8Wp48kw32",
        "outputId": "e471bddf-0367-406b-ae3e-4719cc10412e"
      },
      "source": [
        "{1,2,3,4,5,6,7,7,7,8,8,9,9,0,1,0}"
      ],
      "execution_count": null,
      "outputs": [
        {
          "output_type": "execute_result",
          "data": {
            "text/plain": [
              "{0, 1, 2, 3, 4, 5, 6, 7, 8, 9}"
            ]
          },
          "metadata": {
            "tags": []
          },
          "execution_count": 33
        }
      ]
    },
    {
      "cell_type": "code",
      "metadata": {
        "colab": {
          "base_uri": "https://localhost:8080/"
        },
        "id": "q_3GSZlfkw5r",
        "outputId": "aac0fc34-e299-4de9-f442-11cf691c399c"
      },
      "source": [
        "type({}) #by default if we use a empty curly braces , then it will be dict"
      ],
      "execution_count": null,
      "outputs": [
        {
          "output_type": "execute_result",
          "data": {
            "text/plain": [
              "dict"
            ]
          },
          "metadata": {
            "tags": []
          },
          "execution_count": 34
        }
      ]
    },
    {
      "cell_type": "code",
      "metadata": {
        "colab": {
          "base_uri": "https://localhost:8080/"
        },
        "id": "7fmVpuz0kw7k",
        "outputId": "6e8c5181-77f2-4324-ede0-5c112792fd05"
      },
      "source": [
        "type({1}) # but if we specify atleast one value , it will be set"
      ],
      "execution_count": null,
      "outputs": [
        {
          "output_type": "execute_result",
          "data": {
            "text/plain": [
              "set"
            ]
          },
          "metadata": {
            "tags": []
          },
          "execution_count": 36
        }
      ]
    },
    {
      "cell_type": "code",
      "metadata": {
        "id": "1zoeoXm2kw9_"
      },
      "source": [
        "x1={1,2,3,4,5}\n",
        "x2={2,3,4,5,6,7}"
      ],
      "execution_count": null,
      "outputs": []
    },
    {
      "cell_type": "code",
      "metadata": {
        "colab": {
          "base_uri": "https://localhost:8080/"
        },
        "id": "rS6IfVpykxAB",
        "outputId": "5b4d11d5-f682-44c4-defb-c4daba92278f"
      },
      "source": [
        "x1.add(6)\n",
        "x1"
      ],
      "execution_count": null,
      "outputs": [
        {
          "output_type": "execute_result",
          "data": {
            "text/plain": [
              "{1, 2, 3, 4, 5, 6}"
            ]
          },
          "metadata": {
            "tags": []
          },
          "execution_count": 38
        }
      ]
    },
    {
      "cell_type": "code",
      "metadata": {
        "colab": {
          "base_uri": "https://localhost:8080/"
        },
        "id": "YgPAUxW1kxMj",
        "outputId": "0c56a062-a165-4973-d187-db0e9fc11f40"
      },
      "source": [
        "x1.union(x2) #contains both the variables' elements"
      ],
      "execution_count": null,
      "outputs": [
        {
          "output_type": "execute_result",
          "data": {
            "text/plain": [
              "{1, 2, 3, 4, 5, 6, 7}"
            ]
          },
          "metadata": {
            "tags": []
          },
          "execution_count": 39
        }
      ]
    },
    {
      "cell_type": "code",
      "metadata": {
        "colab": {
          "base_uri": "https://localhost:8080/"
        },
        "id": "tTAgiFLXkxOB",
        "outputId": "6e7395d0-a89e-4b1a-a322-050377402c42"
      },
      "source": [
        "x1.intersection(x2) #intersection is the common of both variables"
      ],
      "execution_count": null,
      "outputs": [
        {
          "output_type": "execute_result",
          "data": {
            "text/plain": [
              "{2, 3, 4, 5, 6}"
            ]
          },
          "metadata": {
            "tags": []
          },
          "execution_count": 40
        }
      ]
    },
    {
      "cell_type": "code",
      "metadata": {
        "colab": {
          "base_uri": "https://localhost:8080/"
        },
        "id": "BHBF0ADbkxP4",
        "outputId": "0849c3a3-2aaa-4df5-847c-e73f91912e45"
      },
      "source": [
        "x1.intersection_update(x2) # this will make the changes permament , will store the intersection output back in x1(first variable)\n",
        "x1"
      ],
      "execution_count": null,
      "outputs": [
        {
          "output_type": "execute_result",
          "data": {
            "text/plain": [
              "{2, 3, 4, 5, 6}"
            ]
          },
          "metadata": {
            "tags": []
          },
          "execution_count": 41
        }
      ]
    },
    {
      "cell_type": "code",
      "metadata": {
        "colab": {
          "base_uri": "https://localhost:8080/"
        },
        "id": "0bG-h92coNbA",
        "outputId": "7c9090f9-7952-4481-d308-5eba1f0933f1"
      },
      "source": [
        "print(x1)\n",
        "print(x2)"
      ],
      "execution_count": null,
      "outputs": [
        {
          "output_type": "stream",
          "text": [
            "{2, 3, 4, 5, 6}\n",
            "{2, 3, 4, 5, 6, 7}\n"
          ],
          "name": "stdout"
        }
      ]
    },
    {
      "cell_type": "code",
      "metadata": {
        "colab": {
          "base_uri": "https://localhost:8080/"
        },
        "id": "K1Foce-qkxSV",
        "outputId": "b597d86d-8364-42c9-f897-9287189dd139"
      },
      "source": [
        "x1.difference(x2) #here we are subtracting x1 from x2 so 7 will not be there"
      ],
      "execution_count": null,
      "outputs": [
        {
          "output_type": "execute_result",
          "data": {
            "text/plain": [
              "set()"
            ]
          },
          "metadata": {
            "tags": []
          },
          "execution_count": 42
        }
      ]
    },
    {
      "cell_type": "code",
      "metadata": {
        "colab": {
          "base_uri": "https://localhost:8080/"
        },
        "id": "yKos8Ayhn5h6",
        "outputId": "28daac63-3558-4841-b8b3-f71af03c1975"
      },
      "source": [
        "x2.difference(x1) #Remove x2 from x1"
      ],
      "execution_count": null,
      "outputs": [
        {
          "output_type": "execute_result",
          "data": {
            "text/plain": [
              "{7}"
            ]
          },
          "metadata": {
            "tags": []
          },
          "execution_count": 44
        }
      ]
    },
    {
      "cell_type": "code",
      "metadata": {
        "id": "M5l54NRYonJ3"
      },
      "source": [
        "x2.difference_update ## This will be permanent"
      ],
      "execution_count": null,
      "outputs": []
    },
    {
      "cell_type": "code",
      "metadata": {
        "colab": {
          "base_uri": "https://localhost:8080/"
        },
        "id": "8h4Rcpr6o38F",
        "outputId": "f785ae0d-6e6d-4abc-d4b6-d94ecee73da8"
      },
      "source": [
        "x1={3,4,5}\n",
        "x2={1,2,3,4,5,6,7}\n",
        "x1.issubset(x2) #check if x1 is present in x2"
      ],
      "execution_count": null,
      "outputs": [
        {
          "output_type": "execute_result",
          "data": {
            "text/plain": [
              "True"
            ]
          },
          "metadata": {
            "tags": []
          },
          "execution_count": 47
        }
      ]
    },
    {
      "cell_type": "code",
      "metadata": {
        "colab": {
          "base_uri": "https://localhost:8080/"
        },
        "id": "s2nHsau9o4Hz",
        "outputId": "83abb3f2-210d-49db-cd58-44689ff27145"
      },
      "source": [
        "x1={3,4,5,9}\n",
        "x2={1,2,3,4,5,6,7}\n",
        "x1.issubset(x2)"
      ],
      "execution_count": null,
      "outputs": [
        {
          "output_type": "execute_result",
          "data": {
            "text/plain": [
              "False"
            ]
          },
          "metadata": {
            "tags": []
          },
          "execution_count": 48
        }
      ]
    },
    {
      "cell_type": "code",
      "metadata": {
        "colab": {
          "base_uri": "https://localhost:8080/",
          "height": 164
        },
        "id": "D7naTMX2o4OY",
        "outputId": "a2a3f024-0df4-4147-80ff-e9728a7cf5de"
      },
      "source": [
        "x2[2:] #set is not traversible or indexible. If you want to traverse in a set then u need to convert into List"
      ],
      "execution_count": null,
      "outputs": [
        {
          "output_type": "error",
          "ename": "TypeError",
          "evalue": "ignored",
          "traceback": [
            "\u001b[0;31m---------------------------------------------------------------------------\u001b[0m",
            "\u001b[0;31mTypeError\u001b[0m                                 Traceback (most recent call last)",
            "\u001b[0;32m<ipython-input-50-fe1165938d6e>\u001b[0m in \u001b[0;36m<module>\u001b[0;34m()\u001b[0m\n\u001b[0;32m----> 1\u001b[0;31m \u001b[0mx2\u001b[0m\u001b[0;34m[\u001b[0m\u001b[0;36m2\u001b[0m\u001b[0;34m:\u001b[0m\u001b[0;34m]\u001b[0m \u001b[0;31m#set is not traversible or indexible. If you want to traverse in a set then u need to convert into List\u001b[0m\u001b[0;34m\u001b[0m\u001b[0;34m\u001b[0m\u001b[0m\n\u001b[0m",
            "\u001b[0;31mTypeError\u001b[0m: 'set' object is not subscriptable"
          ]
        }
      ]
    },
    {
      "cell_type": "code",
      "metadata": {
        "colab": {
          "base_uri": "https://localhost:8080/"
        },
        "id": "Uky20jvto4Sq",
        "outputId": "96034394-d43d-4191-f0f4-42babd387dbb"
      },
      "source": [
        "x1={3,4,5}\n",
        "x2={1,2,3,4,5,6,7}\n",
        "x1.issuperset(x2)"
      ],
      "execution_count": null,
      "outputs": [
        {
          "output_type": "execute_result",
          "data": {
            "text/plain": [
              "False"
            ]
          },
          "metadata": {
            "tags": []
          },
          "execution_count": 52
        }
      ]
    },
    {
      "cell_type": "code",
      "metadata": {
        "colab": {
          "base_uri": "https://localhost:8080/"
        },
        "id": "38ruvBHho4X3",
        "outputId": "74c3e228-eca3-4728-d42a-465d501dbc83"
      },
      "source": [
        "x1={3,4,5}\n",
        "x2={3,4,5}\n",
        "x1.issuperset(x2)"
      ],
      "execution_count": null,
      "outputs": [
        {
          "output_type": "execute_result",
          "data": {
            "text/plain": [
              "True"
            ]
          },
          "metadata": {
            "tags": []
          },
          "execution_count": 55
        }
      ]
    },
    {
      "cell_type": "markdown",
      "metadata": {
        "id": "UhDYHwcgp9sZ"
      },
      "source": [
        "##Dictionary##\n"
      ]
    },
    {
      "cell_type": "code",
      "metadata": {
        "colab": {
          "base_uri": "https://localhost:8080/"
        },
        "id": "-8wADtTXo4ay",
        "outputId": "c5c8eb4b-6790-488f-d479-6a7989737bdd"
      },
      "source": [
        "type({1})"
      ],
      "execution_count": null,
      "outputs": [
        {
          "output_type": "execute_result",
          "data": {
            "text/plain": [
              "set"
            ]
          },
          "metadata": {
            "tags": []
          },
          "execution_count": 57
        }
      ]
    },
    {
      "cell_type": "code",
      "metadata": {
        "colab": {
          "base_uri": "https://localhost:8080/"
        },
        "id": "j-deE8JPo4dy",
        "outputId": "6762b2fc-08b0-4b4d-d4b7-c98b023daca9"
      },
      "source": [
        "type({})"
      ],
      "execution_count": null,
      "outputs": [
        {
          "output_type": "execute_result",
          "data": {
            "text/plain": [
              "dict"
            ]
          },
          "metadata": {
            "tags": []
          },
          "execution_count": 60
        }
      ]
    },
    {
      "cell_type": "code",
      "metadata": {
        "colab": {
          "base_uri": "https://localhost:8080/"
        },
        "id": "iRMQu_zTo4k9",
        "outputId": "22da9cc2-99ba-445a-9d2d-8c7255428d54"
      },
      "source": [
        "type({1:'Age',2:'Name',3:'Weight'})"
      ],
      "execution_count": null,
      "outputs": [
        {
          "output_type": "execute_result",
          "data": {
            "text/plain": [
              "dict"
            ]
          },
          "metadata": {
            "tags": []
          },
          "execution_count": 62
        }
      ]
    },
    {
      "cell_type": "code",
      "metadata": {
        "colab": {
          "base_uri": "https://localhost:8080/"
        },
        "id": "GlgBz7XFo4rs",
        "outputId": "47d42a79-5a1a-4f40-898b-922f5a399ae6"
      },
      "source": [
        "#indexing happens in dictionary using items()\n",
        "d={1:'Age',2:'Name',3:'Weight'}\n",
        "d.items()"
      ],
      "execution_count": null,
      "outputs": [
        {
          "output_type": "execute_result",
          "data": {
            "text/plain": [
              "dict_items([(1, 'Age'), (2, 'Name'), (3, 'Weight')])"
            ]
          },
          "metadata": {
            "tags": []
          },
          "execution_count": 1
        }
      ]
    },
    {
      "cell_type": "code",
      "metadata": {
        "colab": {
          "base_uri": "https://localhost:8080/"
        },
        "id": "CdQ0X8sOo4tx",
        "outputId": "2358b4b5-3306-4fa0-a418-fcf5801ed5c1"
      },
      "source": [
        "d.keys()"
      ],
      "execution_count": null,
      "outputs": [
        {
          "output_type": "execute_result",
          "data": {
            "text/plain": [
              "dict_keys([1, 2, 3])"
            ]
          },
          "metadata": {
            "tags": []
          },
          "execution_count": 2
        }
      ]
    },
    {
      "cell_type": "code",
      "metadata": {
        "colab": {
          "base_uri": "https://localhost:8080/",
          "height": 164
        },
        "id": "Eek4WMqjo4vh",
        "outputId": "902a824b-bc0c-4839-efff-c2e116f77710"
      },
      "source": [
        "d.keys()[1] #we cant index  dictionary this way"
      ],
      "execution_count": null,
      "outputs": [
        {
          "output_type": "error",
          "ename": "TypeError",
          "evalue": "ignored",
          "traceback": [
            "\u001b[0;31m---------------------------------------------------------------------------\u001b[0m",
            "\u001b[0;31mTypeError\u001b[0m                                 Traceback (most recent call last)",
            "\u001b[0;32m<ipython-input-3-e5181884552d>\u001b[0m in \u001b[0;36m<module>\u001b[0;34m()\u001b[0m\n\u001b[0;32m----> 1\u001b[0;31m \u001b[0md\u001b[0m\u001b[0;34m.\u001b[0m\u001b[0mkeys\u001b[0m\u001b[0;34m(\u001b[0m\u001b[0;34m)\u001b[0m\u001b[0;34m[\u001b[0m\u001b[0;36m1\u001b[0m\u001b[0;34m]\u001b[0m\u001b[0;34m\u001b[0m\u001b[0;34m\u001b[0m\u001b[0m\n\u001b[0m",
            "\u001b[0;31mTypeError\u001b[0m: 'dict_keys' object is not subscriptable"
          ]
        }
      ]
    },
    {
      "cell_type": "code",
      "metadata": {
        "colab": {
          "base_uri": "https://localhost:8080/"
        },
        "id": "A1pS3udWo42C",
        "outputId": "6f439bfb-3599-4d5f-c05b-a5cd26f8bb26"
      },
      "source": [
        "d"
      ],
      "execution_count": null,
      "outputs": [
        {
          "output_type": "execute_result",
          "data": {
            "text/plain": [
              "{1: 'Age', 2: 'Name', 3: 'Weight'}"
            ]
          },
          "metadata": {
            "tags": []
          },
          "execution_count": 4
        }
      ]
    },
    {
      "cell_type": "code",
      "metadata": {
        "id": "O4fI5b4Oo48M"
      },
      "source": [
        "d={1: 'Age', 2: 'Name', 3: 'Weight',1:'Rahul'} #If there are multiple keys assigned, then the laest value will be asssigned"
      ],
      "execution_count": null,
      "outputs": []
    },
    {
      "cell_type": "code",
      "metadata": {
        "colab": {
          "base_uri": "https://localhost:8080/"
        },
        "id": "1-Yzwvszo4-j",
        "outputId": "0af9dc62-cd06-4991-bbb6-c0c5027067a8"
      },
      "source": [
        "d"
      ],
      "execution_count": null,
      "outputs": [
        {
          "output_type": "execute_result",
          "data": {
            "text/plain": [
              "{1: 'Rahul', 2: 'Name', 3: 'Weight'}"
            ]
          },
          "metadata": {
            "tags": []
          },
          "execution_count": 6
        }
      ]
    },
    {
      "cell_type": "code",
      "metadata": {
        "colab": {
          "base_uri": "https://localhost:8080/"
        },
        "id": "itjrCM63o5BV",
        "outputId": "40876a53-9596-4bd8-d642-de76fcdd6d3a"
      },
      "source": [
        "d.values()"
      ],
      "execution_count": null,
      "outputs": [
        {
          "output_type": "execute_result",
          "data": {
            "text/plain": [
              "dict_values(['Rahul', 'Name', 'Weight'])"
            ]
          },
          "metadata": {
            "tags": []
          },
          "execution_count": 7
        }
      ]
    },
    {
      "cell_type": "code",
      "metadata": {
        "colab": {
          "base_uri": "https://localhost:8080/",
          "height": 35
        },
        "id": "_7G6g1L30Xk7",
        "outputId": "e557c952-6a3a-4bf2-b2e3-fe355087a867"
      },
      "source": [
        "d[1] #indexing in Dictionary  is based on keys , here 0 , 1 2, 3 will not work"
      ],
      "execution_count": null,
      "outputs": [
        {
          "output_type": "execute_result",
          "data": {
            "application/vnd.google.colaboratory.intrinsic+json": {
              "type": "string"
            },
            "text/plain": [
              "'Rahul'"
            ]
          },
          "metadata": {
            "tags": []
          },
          "execution_count": 9
        }
      ]
    },
    {
      "cell_type": "code",
      "metadata": {
        "colab": {
          "base_uri": "https://localhost:8080/",
          "height": 35
        },
        "id": "8OlOBhhN0bdm",
        "outputId": "9a7e95b1-f5d0-4f42-89a0-17dd2ba9399f"
      },
      "source": [
        "d[3]"
      ],
      "execution_count": null,
      "outputs": [
        {
          "output_type": "execute_result",
          "data": {
            "application/vnd.google.colaboratory.intrinsic+json": {
              "type": "string"
            },
            "text/plain": [
              "'Weight'"
            ]
          },
          "metadata": {
            "tags": []
          },
          "execution_count": 10
        }
      ]
    },
    {
      "cell_type": "code",
      "metadata": {
        "id": "l2MEBnfh0kuc"
      },
      "source": [
        "my_dict={'key1':123,'key2':[12,23,33],'key3':['item0','item1','item2']}"
      ],
      "execution_count": 1,
      "outputs": []
    },
    {
      "cell_type": "code",
      "metadata": {
        "colab": {
          "base_uri": "https://localhost:8080/"
        },
        "id": "EFz7s1yyf-od",
        "outputId": "c783e9a7-010f-444e-b2f0-219f647b204b"
      },
      "source": [
        "my_dict['key1']"
      ],
      "execution_count": 2,
      "outputs": [
        {
          "output_type": "execute_result",
          "data": {
            "text/plain": [
              "123"
            ]
          },
          "metadata": {
            "tags": []
          },
          "execution_count": 2
        }
      ]
    },
    {
      "cell_type": "code",
      "metadata": {
        "colab": {
          "base_uri": "https://localhost:8080/"
        },
        "id": "1pOPjh2ngHIu",
        "outputId": "d38151e2-77e7-4231-e032-612a792a76f3"
      },
      "source": [
        "my_dict['key2']"
      ],
      "execution_count": 3,
      "outputs": [
        {
          "output_type": "execute_result",
          "data": {
            "text/plain": [
              "[12, 23, 33]"
            ]
          },
          "metadata": {
            "tags": []
          },
          "execution_count": 3
        }
      ]
    },
    {
      "cell_type": "code",
      "metadata": {
        "colab": {
          "base_uri": "https://localhost:8080/",
          "height": 35
        },
        "id": "RlGLGJpogJru",
        "outputId": "20e23c66-3d14-4d38-92cb-c57f5cc9fb02"
      },
      "source": [
        "my_dict['key3'][1]"
      ],
      "execution_count": 4,
      "outputs": [
        {
          "output_type": "execute_result",
          "data": {
            "application/vnd.google.colaboratory.intrinsic+json": {
              "type": "string"
            },
            "text/plain": [
              "'item1'"
            ]
          },
          "metadata": {
            "tags": []
          },
          "execution_count": 4
        }
      ]
    },
    {
      "cell_type": "code",
      "metadata": {
        "colab": {
          "base_uri": "https://localhost:8080/",
          "height": 35
        },
        "id": "gzczXQ29gPHi",
        "outputId": "5b0b7a92-83c9-4d01-ad25-2f93e851949e"
      },
      "source": [
        "my_dict['key3'][1].upper()"
      ],
      "execution_count": 5,
      "outputs": [
        {
          "output_type": "execute_result",
          "data": {
            "application/vnd.google.colaboratory.intrinsic+json": {
              "type": "string"
            },
            "text/plain": [
              "'ITEM1'"
            ]
          },
          "metadata": {
            "tags": []
          },
          "execution_count": 5
        }
      ]
    },
    {
      "cell_type": "code",
      "metadata": {
        "colab": {
          "base_uri": "https://localhost:8080/",
          "height": 35
        },
        "id": "1tvJT0sbg2V-",
        "outputId": "d6516c2c-78e8-42a2-b369-1326ad5151d6"
      },
      "source": [
        "my_dict['key3'][1].lower()"
      ],
      "execution_count": 6,
      "outputs": [
        {
          "output_type": "execute_result",
          "data": {
            "application/vnd.google.colaboratory.intrinsic+json": {
              "type": "string"
            },
            "text/plain": [
              "'item1'"
            ]
          },
          "metadata": {
            "tags": []
          },
          "execution_count": 6
        }
      ]
    },
    {
      "cell_type": "code",
      "metadata": {
        "id": "GNBsGuwUg4ue"
      },
      "source": [
        "d={'key1':{'nestkey':{'subnestkey':'value'}}}"
      ],
      "execution_count": 7,
      "outputs": []
    },
    {
      "cell_type": "code",
      "metadata": {
        "colab": {
          "base_uri": "https://localhost:8080/"
        },
        "id": "J-waOJilh5jR",
        "outputId": "8ca9434b-3ff7-455a-ba86-90ec072cf15b"
      },
      "source": [
        "d.keys()"
      ],
      "execution_count": 8,
      "outputs": [
        {
          "output_type": "execute_result",
          "data": {
            "text/plain": [
              "dict_keys(['key1'])"
            ]
          },
          "metadata": {
            "tags": []
          },
          "execution_count": 8
        }
      ]
    },
    {
      "cell_type": "code",
      "metadata": {
        "colab": {
          "base_uri": "https://localhost:8080/",
          "height": 35
        },
        "id": "wp4gIR_Rh8fl",
        "outputId": "004a8b64-2430-4689-e7f7-f7dabd726129"
      },
      "source": [
        "d['key1']['nestkey']['subnestkey'] #keep calling the keys"
      ],
      "execution_count": 10,
      "outputs": [
        {
          "output_type": "execute_result",
          "data": {
            "application/vnd.google.colaboratory.intrinsic+json": {
              "type": "string"
            },
            "text/plain": [
              "'value'"
            ]
          },
          "metadata": {
            "tags": []
          },
          "execution_count": 10
        }
      ]
    },
    {
      "cell_type": "markdown",
      "metadata": {
        "id": "Sum2P4b8ihiX"
      },
      "source": [
        "##Dictionary Comprehensions##"
      ]
    },
    {
      "cell_type": "code",
      "metadata": {
        "colab": {
          "base_uri": "https://localhost:8080/"
        },
        "id": "jG3SQlI-iJ14",
        "outputId": "16aedeb5-96ad-4e31-b79d-02b069f6b796"
      },
      "source": [
        "{x:x**2 for x in range(10)}"
      ],
      "execution_count": 11,
      "outputs": [
        {
          "output_type": "execute_result",
          "data": {
            "text/plain": [
              "{0: 0, 1: 1, 2: 4, 3: 9, 4: 16, 5: 25, 6: 36, 7: 49, 8: 64, 9: 81}"
            ]
          },
          "metadata": {
            "tags": []
          },
          "execution_count": 11
        }
      ]
    },
    {
      "cell_type": "markdown",
      "metadata": {
        "id": "D3E9QLxWmEnx"
      },
      "source": [
        "##Functions##"
      ]
    },
    {
      "cell_type": "markdown",
      "metadata": {
        "id": "6CmsWOxhmS4J"
      },
      "source": [
        ""
      ]
    },
    {
      "cell_type": "code",
      "metadata": {
        "colab": {
          "base_uri": "https://localhost:8080/"
        },
        "id": "zs7aeecvir38",
        "outputId": "350ce451-d032-4134-d838-469cb0adda21"
      },
      "source": [
        "#Greet People\n",
        "print(\"hello World\")\n",
        "print(\"hello World\")\n",
        "print(\"hello World\")\n",
        "print(\"hello World\")\n",
        "print(\"hello World\")\n",
        "print(\"hello World\")\n",
        "print(\"hello World\")"
      ],
      "execution_count": 13,
      "outputs": [
        {
          "output_type": "stream",
          "text": [
            "hello World\n",
            "hello World\n",
            "hello World\n",
            "hello World\n",
            "hello World\n",
            "hello World\n",
            "hello World\n"
          ],
          "name": "stdout"
        }
      ]
    },
    {
      "cell_type": "code",
      "metadata": {
        "id": "QZcJRkJAmbl-"
      },
      "source": [
        "def greeting():\n",
        "  print(\"hello World\")"
      ],
      "execution_count": 14,
      "outputs": []
    },
    {
      "cell_type": "code",
      "metadata": {
        "colab": {
          "base_uri": "https://localhost:8080/"
        },
        "id": "3Lvrn2Nnm9D_",
        "outputId": "4adb45ab-a41f-4235-8443-1d40aec213c4"
      },
      "source": [
        "greeting()"
      ],
      "execution_count": 15,
      "outputs": [
        {
          "output_type": "stream",
          "text": [
            "hello World\n"
          ],
          "name": "stdout"
        }
      ]
    },
    {
      "cell_type": "code",
      "metadata": {
        "id": "6IYGNEW5m-HG"
      },
      "source": [
        "#if you make changes , u can do only one place in the main function code\n",
        "def greeting():\n",
        "  print(\"hello World , how are you \")"
      ],
      "execution_count": 16,
      "outputs": []
    },
    {
      "cell_type": "code",
      "metadata": {
        "colab": {
          "base_uri": "https://localhost:8080/"
        },
        "id": "EYUPmvqWnOBF",
        "outputId": "cec0dd6c-7e45-45a1-9a6b-d757f8b86031"
      },
      "source": [
        "greeting()"
      ],
      "execution_count": 17,
      "outputs": [
        {
          "output_type": "stream",
          "text": [
            "hello World , how are you \n"
          ],
          "name": "stdout"
        }
      ]
    },
    {
      "cell_type": "code",
      "metadata": {
        "colab": {
          "base_uri": "https://localhost:8080/"
        },
        "id": "wPvakrc4nPqP",
        "outputId": "b6bf23ce-fe01-4cb2-bdbb-2c700dfd52e6"
      },
      "source": [
        "#def func_name(parameter1,parameter2,parameter3,...)\n",
        "#Sum of all Even Numbers\n",
        "def odd_even_sum(lst): #provide parametr as list\n",
        "  even_sum=0\n",
        "  odd_sum=0\n",
        "  for i in lst:\n",
        "    if i%2==0:\n",
        "      even_sum=even_sum+i\n",
        "    else:\n",
        "      odd_sum=odd_sum+i\n",
        "  print(f\"even sum is {even_sum}\")\n",
        "  print(f\"odd sum is {odd_sum}\")\n",
        "\n",
        "odd_even_sum([1,2,3,4,6])"
      ],
      "execution_count": 14,
      "outputs": [
        {
          "output_type": "stream",
          "text": [
            "even sum is 12\n",
            "odd sum is 4\n"
          ],
          "name": "stdout"
        }
      ]
    },
    {
      "cell_type": "code",
      "metadata": {
        "colab": {
          "base_uri": "https://localhost:8080/"
        },
        "id": "i_c0uHSWnaFJ",
        "outputId": "617b3db5-1355-4aa9-e29f-5a3903f03a29"
      },
      "source": [
        "#Return means , the function is returning some output and we need to catch this output in a variable if we want to display explicitly\n",
        "#Sum of all Even Numbers\n",
        "def odd_even_sum(lst): #provide parametr as list\n",
        "  even_sum=0\n",
        "  odd_sum=0\n",
        "  for i in lst:\n",
        "    if i%2==0:\n",
        "      even_sum=even_sum+i\n",
        "    else:\n",
        "      odd_sum=odd_sum+i\n",
        "  \n",
        "  return even_sum , odd_sum # return the values of the function\n",
        "\n",
        "even_sum,odd_sum=odd_even_sum([1,2,3,4,6])\n",
        "\n",
        "print(f\"even sum is {even_sum}\")\n",
        "print(f\"odd sum is {odd_sum}\")"
      ],
      "execution_count": 15,
      "outputs": [
        {
          "output_type": "stream",
          "text": [
            "even sum is 12\n",
            "odd sum is 4\n"
          ],
          "name": "stdout"
        }
      ]
    },
    {
      "cell_type": "code",
      "metadata": {
        "id": "Yby4-2JKV4Pa"
      },
      "source": [
        ""
      ],
      "execution_count": null,
      "outputs": []
    }
  ]
}